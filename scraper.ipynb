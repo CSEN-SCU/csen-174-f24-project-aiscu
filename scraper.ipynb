{
  "nbformat": 4,
  "nbformat_minor": 0,
  "metadata": {
    "colab": {
      "provenance": []
    },
    "kernelspec": {
      "name": "python3",
      "display_name": "Python 3"
    },
    "language_info": {
      "name": "python"
    }
  },
  "cells": [
    {
      "cell_type": "code",
      "execution_count": 15,
      "metadata": {
        "id": "vf5yx_nJNNwm"
      },
      "outputs": [],
      "source": [
        "!pip install langchain\n",
        "!pip install pinecone-client\n",
        "!pip install openai\n",
        "!pip install tiktoken\n",
        "!pip install nest_asyncio\n",
        "!pip install -qU langchain-pinecone pinecone-notebooks\n",
        "!pip install -qU langchain-openai\n",
        "!pip install -qU langchain_community beautifulsoup4\n",
        "!pip install -qU langchain-pinecone"
      ]
    },
    {
      "cell_type": "code",
      "source": [
        "import os\n",
        "os.environ[\"OPENAI_API_KEY\"] = \"INSERT_OPENAI_API_KEY\""
      ],
      "metadata": {
        "id": "DmbmOHfbNPVc"
      },
      "execution_count": 2,
      "outputs": []
    },
    {
      "cell_type": "code",
      "source": [
        "from pinecone import Pinecone\n",
        "\n",
        "\n",
        "pc = Pinecone(api_key=\"INSERT_PINECONE_API_KEY\")"
      ],
      "metadata": {
        "id": "kHlQlvn_NQYx"
      },
      "execution_count": 3,
      "outputs": []
    },
    {
      "cell_type": "code",
      "source": [
        "# fixes a bug with asyncio and jupyter\n",
        "import nest_asyncio\n",
        "nest_asyncio.apply()\n",
        "\n",
        "\n",
        "from langchain_community.document_loaders import WebBaseLoader\n",
        "\n",
        "# Arrange\n",
        "fail_page  = [\"https://www.scu.edu/failure\"]\n",
        "\n",
        "# Create a WebBaseLoader to scrape the not found page for scu.edu\n",
        "loader = WebBaseLoader(fail_page)\n",
        "loader.requests_per_second = 1\n",
        "fail_case = loader.aload()\n",
        "\n",
        "urls = [\n",
        "    \"https://www.scu.edu/drahmann/tutoring/\",  # General Tutoring (Drahmann Center)\n",
        "    \"https://www.scu.edu/cas/mathematics-learning-center/\",  # Mathematics Learning Center\n",
        "    \"https://www.scu.edu/provost/writingcenter/\",  # Writing Center\n",
        "    \"https://www.scu.edu/engineering/undergraduate/student-support/tau-beta-pi-tutoring/\",  # Tau Beta Pi Tutoring (Engineering)\n",
        "    \"https://www.scu.edu/business/undergraduates/beyond-the-classroom/student-organizations/\",  # Business Student Organizations\n",
        "    \"https://www.scu.edu/business/undergraduates/beyond-the-classroom/ace-program/\",  # ACE Program (Business)\n",
        "    \"https://www.scu.edu/business/undergraduates/beyond-the-classroom/leavey-ambassadors-program/\",  # Leavey Ambassadors Program (Business)\n",
        "    \"https://www.scu.edu/business/undergraduates/beyond-the-classroom/community-fellows/\",  # Community Fellows Program (Business)\n",
        "    \"https://www.scu.edu/business/undergraduates/beyond-the-classroom/npi/\",  # Neighborhood Prosperity Initiative (Business)\n",
        "    \"https://www.scu.edu/business/undergraduates/advising/\",  # Business Undergraduate Advising\n",
        "    \"https://www.scu.edu/business/undergraduates/beyond-the-classroom/professional-development-program/peer-career-consultants/\",  # Peer Career Consultants (Business)\n",
        "    \"https://www.scu.edu/business/undergraduates/beyond-the-classroom/senior-leadership-academy/\",  # Senior Leadership Academy (Business)\n",
        "    \"https://www.scu.edu/cas/mathematics-learning-center/study-groups/\",  # Mathematics Study Groups\n",
        "    \"https://www.scu.edu/cas/mathematics-learning-center/individual-appointment/\",  # Individual Math Tutoring Appointments\n",
        "    \"https://www.scu.edu/cas/mathematics-learning-center/power-ups/\",  # Math Learning Power-Ups\n",
        "    \"https://www.scu.edu/cas/mathematics-learning-center/meet-the-tutors/\",  # Meet the Math Tutors\n",
        "    \"https://www.scu.edu/cas/mathematics-learning-center/resources/\",  # Math Learning Resources\n",
        "    \"https://www.scu.edu/cas/mathematics-learning-center/resources-for-faculty/\",  # Math Resources for Faculty\n",
        "    \"https://www.scu.edu/access/\",  # ACCESS Program\n",
        "    \"https://www.scu.edu/access/access-digital-credentials/\",  # ACCESS Digital Credentials\n",
        "    \"https://www.scu.edu/access/mobile-ordering/\",  # ACCESS Mobile Ordering\n",
        "    \"https://www.scu.edu/auxiliary-services/bookstore/\",  # Bookstore\n",
        "    \"https://www.scu.edu/bursar/\",  # Bursar's Office\n",
        "    \"https://www.scu.edu/campus-safety/\",  # Campus Safety\n",
        "    \"https://www.scu.edu/careercenter/\",  # Career Center\n",
        "    \"https://www.scu.edu/careercenter/toolkit/\",  # Career Toolkit\n",
        "    \"https://www.scu.edu/careercenter/toolkit/broncoexchange/\",  # Bronco Exchange (Career Networking)\n",
        "    \"https://www.scu.edu/careercenter/employers/dwe/\",  # Career Development Week (Employers)\n",
        "    \"https://www.scu.edu/careercenter/employers/dwe/employers/\",  # DWE for Employers\n",
        "    \"https://www.scu.edu/careercenter/employers/dwe/students_staff_faculty/\",  # DWE for Students, Staff, Faculty\n",
        "    \"https://www.scu.edu/careercenter/career-planning-guides/\",  # Career Planning Guides\n",
        "    \"https://www.scu.edu/careercenter/career-planning-guides/first-year-guide/\",  # First-Year Career Planning Guide\n",
        "    \"https://www.scu.edu/careercenter/career-planning-guides/sophomore-guide/\",  # Sophomore Career Planning Guide\n",
        "    \"https://www.scu.edu/careercenter/career-planning-guides/senior-guide/\",  # Senior Career Planning Guide\n",
        "    \"https://www.scu.edu/careercenter/career-planning-guides/transferguide/\",  # Transfer Student Career Guide\n",
        "    \"https://www.scu.edu/careercenter/career-planning-guides/undocumented-students-guide/\",  # Career Guide for Undocumented Students\n",
        "    \"https://www.scu.edu/careercenter/career-planning-guides/graduate-students-guide/\",  # Graduate Student Career Guide\n",
        "    \"https://www.scu.edu/careercenter/career-planning-guides/student-athletes/\",  # Career Guide for Student Athletes\n",
        "    \"https://www.scu.edu/careercenter/career-planning-guides/international-career-guide/\",  # International Career Guide\n",
        "    \"https://www.scu.edu/sustainability/programs/circulareconomy/buckyscloset/\",  # Bucky's Closet (Sustainability Initiative)\n",
        "    \"https://www.scu.edu/financialaid/graduate-students/\",  # Financial Aid for Graduate Students\n",
        "    \"https://www.scu.edu/diversity/\",  # Diversity and Inclusion\n",
        "    \"https://www.scu.edu/registrar/\",  # Registrar's Office\n",
        "    \"https://www.scu.edu/living/residential-living-options/graduate/\",  # Graduate Student Housing\n",
        "    \"https://www.scu.edu/sustainability/operations/transportation/\",  # Transportation and Sustainability\n",
        "    \"https://www.scu.edu/library/\",  # University Library\n",
        "    \"https://www.scu.edu/recreation/\",  # Recreation Services\n",
        "    \"https://www.scu.edu/bewell/\",  # BeWell Program (Wellness)\n",
        "    \"https://www.scu.edu/drahmann/\",  # Drahmann Advising and Learning Resources Center\n",
        "    \"https://www.scu.edu/osl/\",  # Office of Student Life\n",
        "    \"https://www.scu.edu/campus-safety/scu-bronco-alert/\",  # SCU Bronco Alert System\n",
        "    \"https://www.scu.edu/technology/\",  # Technology Services\n",
        "    \"https://www.scu.edu/ecp/current-students/guadalupe-hall-resources/\",  # Guadalupe Hall Resources (Graduate Programs)\n",
        "    \"https://www.scu.edu/ecp/current-students/disability-resources/\",  # Disability Resources\n",
        "    \"https://www.scu.edu/cas/mathematics-learning-center/drop-in-tutoring/\",  # Drop-in Tutoring (Math)\n",
        "    \"https://www.scu.edu/oae/\",  # Office of Accessible Education\n",
        "    \"https://www.scu.edu/housing/\",  # Housing Office\n",
        "    \"https://www.scu.edu/csi/\",  # Center for Student Involvement\n",
        "    \"https://www.scu.edu/oml/\",  # Office of Multicultural Learning\n",
        "    \"https://www.scu.edu/engineering/undergraduate/student-support/tau-beta-pi-tutoring/\",  # Tau Beta Pi Tutoring (Engineering Honor Society)\n",
        "    \"https://www.scu.edu/library/\",  # University Library\n",
        "    \"https://libguides.scu.edu/onesearch\" # One Search Explanation\n",
        "    \"https://libguides.scu.edu/\",  # Databases at SCU Library\n",
        "    \"https://libguides.scu.edu/researchhelp/\",  # Research Help by Appointment\n",
        "    \"https://libguides.scu.edu/coursereserves\",  # Course Reserves\n",
        "    \"https://www.scu.edu/technology/get-help/\",  # Technology Help Desk\n",
        "    \"https://www.scu.edu/training/resources/students/\",  # Student Technology Resources\n",
        "    \"https://www.scu.edu/access/access-digital-credentials/\",  # Access Digital Credentials\n",
        "]\n",
        "\n",
        "# Create a WebBaseLoader to scrape the provided URLs\n",
        "loader = WebBaseLoader(urls)\n",
        "loader.requests_per_second = 1\n",
        "docs = loader.aload()\n",
        "\n",
        "# Assert\n",
        "for doc in docs:\n",
        "    # If any of the scraped urls re-dircted to the not found page\n",
        "    if doc.page_content == fail_case[0].page_content or len(doc.page_content) == 0:\n",
        "        # Output the url\n",
        "        print(doc.metadata[\"source\"])"
      ],
      "metadata": {
        "colab": {
          "base_uri": "https://localhost:8080/"
        },
        "id": "a3uQMBVPNRhx",
        "outputId": "2583ec74-bde4-45c7-c2a1-bfa5729e160b"
      },
      "execution_count": 47,
      "outputs": [
        {
          "output_type": "stream",
          "name": "stderr",
          "text": [
            "Fetching pages: 100%|##########| 1/1 [00:00<00:00,  8.33it/s]\n",
            "Fetching pages: 100%|##########| 67/67 [00:07<00:00,  9.03it/s]\n"
          ]
        }
      ]
    },
    {
      "cell_type": "code",
      "source": [
        "from langchain.text_splitter import RecursiveCharacterTextSplitter\n",
        "\n",
        "\n",
        "text_splitter = RecursiveCharacterTextSplitter(\n",
        "    chunk_size = 1200,\n",
        "    chunk_overlap  = 200,\n",
        "    length_function = len,\n",
        ")\n",
        "\n",
        "\n",
        "docs_chunks = text_splitter.split_documents(docs)\n",
        "\n",
        "\n",
        "print(docs_chunks)"
      ],
      "metadata": {
        "id": "szh47uCQNS-7"
      },
      "execution_count": 48,
      "outputs": []
    },
    {
      "cell_type": "code",
      "source": [
        "from langchain_openai import OpenAIEmbeddings\n",
        "\n",
        "\n",
        "embeddings = OpenAIEmbeddings(model=\"text-embedding-3-large\")\n",
        "\n",
        "\n",
        "print(embeddings)"
      ],
      "metadata": {
        "id": "bjZxwGOsNUIo"
      },
      "execution_count": 49,
      "outputs": []
    },
    {
      "cell_type": "code",
      "source": [
        "from langchain_pinecone import PineconeVectorStore\n",
        "from pinecone import ServerlessSpec\n",
        "import time\n",
        "\n",
        "\n",
        "index_name = \"test-large-index\"  # change if desired\n",
        "\n",
        "\n",
        "existing_indexes = [index_info[\"name\"] for index_info in pc.list_indexes()]\n",
        "\n",
        "\n",
        "if index_name not in existing_indexes:\n",
        "    pc.create_index(\n",
        "        name=index_name,\n",
        "        dimension=3072,\n",
        "        metric=\"cosine\",\n",
        "        spec=ServerlessSpec(cloud=\"aws\", region=\"us-east-1\"),\n",
        "    )\n",
        "    while not pc.describe_index(index_name).status[\"ready\"]:\n",
        "        time.sleep(1)\n",
        "\n",
        "\n",
        "index = pc.Index(index_name)\n",
        "\n",
        "\n",
        "docsearch = PineconeVectorStore(index=index, embedding=embeddings)"
      ],
      "metadata": {
        "id": "MspxdmDTNWqx"
      },
      "execution_count": 50,
      "outputs": []
    },
    {
      "cell_type": "code",
      "source": [
        "from uuid import uuid4\n",
        "\n",
        "\n",
        "uuids = [str(uuid4()) for _ in range(len(docs_chunks))]\n",
        "\n",
        "\n",
        "docsearch.add_documents(documents=docs_chunks, ids=uuids)"
      ],
      "metadata": {
        "id": "-54lv8baNX8r"
      },
      "execution_count": 51,
      "outputs": []
    },
    {
      "cell_type": "markdown",
      "source": [
        "FullStack Application Code"
      ],
      "metadata": {
        "id": "jH86uDHjNjSF"
      }
    },
    {
      "cell_type": "code",
      "source": [
        "# Needs to be run only once as a setup\n",
        "import os\n",
        "# os.environ[\"OPENAI_API_KEY\"] = \"INSERT_OPENAI_API_KEY\"\n",
        "\n",
        "from pinecone import Pinecone\n",
        "# pc = Pinecone(api_key=\"INSERT_PINECONE_API_KEY\")\n",
        "\n",
        "from langchain_pinecone import PineconeVectorStore\n",
        "from pinecone import ServerlessSpec\n",
        "from langchain.chains import RetrievalQA\n",
        "from langchain.llms import OpenAI\n",
        "from langchain_core.messages import HumanMessage, AIMessage\n",
        "from langchain_openai import OpenAIEmbeddings\n",
        "from langchain.chains import ConversationalRetrievalChain\n",
        "from langchain.memory import ConversationBufferMemory\n",
        "from langchain_core.prompts import MessagesPlaceholder\n",
        "from langchain_core.messages import HumanMessage, AIMessage\n",
        "from langchain.chains.history_aware_retriever import create_history_aware_retriever\n",
        "from langchain.chains import create_retrieval_chain\n",
        "from langchain.chains.combine_documents import create_stuff_documents_chain\n",
        "from langchain_core.prompts import ChatPromptTemplate\n",
        "\n",
        "embeddings = OpenAIEmbeddings(model=\"text-embedding-3-large\")\n",
        "llm=OpenAI()\n",
        "\n",
        "def split_https(entries):\n",
        "  result = []\n",
        "  for entry in entries:\n",
        "      parts = entry.split('https:')\n",
        "      for part in parts:\n",
        "          if part:\n",
        "              result.append('https:' + part)\n",
        "  return result\n",
        "\n",
        "def create_chain(vectorStore):\n",
        "    system_prompt = (\n",
        "        \"You are an AI assistant designed to help students at Santa Clara University (SCU) navigate university resources, based on their personal needs.\"\n",
        "        \"Be friendly, and approachable.\"\n",
        "        \"Do NOT attempt to guess or complete unfinished questions.\"\n",
        "        \"If what is being asked of you appears to be incomplete, do not complete it, and instead respond saying it looks incomplete.\"\n",
        "        \"If you cannot find the answer in the context, say you cannot find it, rather than answer it.\"\n",
        "        \"Answer based on this context: {context}\"\n",
        "    )\n",
        "    prompt = ChatPromptTemplate.from_messages([\n",
        "        (\"system\", system_prompt),\n",
        "        MessagesPlaceholder(variable_name=\"chat_history\"),\n",
        "        (\"user\", \"{input}\")\n",
        "    ])\n",
        "\n",
        "    chain = create_stuff_documents_chain(\n",
        "        llm=llm,\n",
        "        prompt=prompt\n",
        "    )\n",
        "\n",
        "    retriever = vectorStore.as_retriever(search_kwargs={\"k\": 3})\n",
        "\n",
        "    retrival_prompt = (\n",
        "        \"Given a chat history and the latest user question which might reference the chat history above,\"\n",
        "        \"formulate a standalone question which can be understood without the chat history.\"\n",
        "        \"Do NOT answer the question or attempt to the complete it if it looks incomplete.\"\n",
        "        \"Just reformulate it, if it looks complete, and otherwise return it as is.\"\n",
        "    )\n",
        "\n",
        "    retriever_prompt = ChatPromptTemplate.from_messages([\n",
        "        (\"system\", retrival_prompt),\n",
        "        MessagesPlaceholder(variable_name=\"chat_history\"),\n",
        "        (\"user\", \"{input}\")\n",
        "    ])\n",
        "\n",
        "    history_aware_retriever = create_history_aware_retriever(\n",
        "        llm=llm,\n",
        "        retriever=retriever,\n",
        "        prompt=retriever_prompt\n",
        "    )\n",
        "\n",
        "    retrieval_chain = create_retrieval_chain(\n",
        "        history_aware_retriever,\n",
        "        chain\n",
        "    )\n",
        "\n",
        "    return retrieval_chain"
      ],
      "metadata": {
        "id": "SKyzoe1qM6zj"
      },
      "execution_count": 40,
      "outputs": []
    },
    {
      "cell_type": "code",
      "source": [
        "# Run To Select/Swap Database\n",
        "select = 0\n",
        "while select != 1 and select != 2 and select != 3:\n",
        "  print(\"[1] Tutoring\")\n",
        "  print(\"[2] Safety\")\n",
        "  print(\"[3] Large\")\n",
        "  select = int(input(\"Which do you need help with?\"))\n",
        "if select == 2:\n",
        "  index_name = \"safety-test-index\"\n",
        "elif select == 1:\n",
        "  index_name = \"tutor-test-index\"\n",
        "elif select == 3:\n",
        "  index_name = \"test-large-index\"\n",
        "\n",
        "index = pc.Index(index_name)\n",
        "docsearch = PineconeVectorStore(index=index, embedding=embeddings)\n",
        "\n",
        "# Run For User To Interact With Chatbot\n",
        "chat_history = []\n",
        "chain = create_chain(docsearch)\n",
        "while True:\n",
        "  query = input(\"What do you need help with?\")\n",
        "  if query.lower() == \"exit\":\n",
        "    break\n",
        "  result = chain.invoke({\n",
        "        \"chat_history\": chat_history,\n",
        "        \"input\": query,\n",
        "  })\n",
        "  print(result[\"answer\"])\n",
        "  retrival_question = result[\"answer\"].split(\":\", 1)[0]\n",
        "  print(retrival_question)\n",
        "  output = result[\"answer\"].split(\":\", 1)[1]\n",
        "  print(output)\n",
        "  sources = [doc.metadata[\"source\"] for doc in result[\"context\"]]\n",
        "  sources = set(split_https(sources))\n",
        "  print(sources)\n",
        "  chat_history.append(HumanMessage(content=query))\n",
        "  chat_history.append(AIMessage(content=output))"
      ],
      "metadata": {
        "id": "RGsjy0IhA9aF"
      },
      "execution_count": 44,
      "outputs": []
    }
  ]
}
